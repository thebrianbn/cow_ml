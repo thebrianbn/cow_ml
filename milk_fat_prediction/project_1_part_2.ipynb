{
 "cells": [
  {
   "cell_type": "code",
   "execution_count": 22,
   "metadata": {},
   "outputs": [],
   "source": [
    "from matplotlib import pyplot as plt\n",
    "import numpy as np\n",
    "import pandas as pd\n",
    "from sklearn.linear_model import Lasso\n",
    "from sklearn.model_selection import train_test_split, cross_val_score\n",
    "from sklearn.metrics import accuracy_score\n",
    "from sklearn.ensemble import RandomForestRegressor\n",
    "from scipy.stats.stats import pearsonr\n",
    "from sklearn.discriminant_analysis import LinearDiscriminantAnalysis\n",
    "from sklearn.decomposition import PCA\n",
    "import warnings\n",
    "%matplotlib inline\n",
    "warnings.filterwarnings('ignore')"
   ]
  },
  {
   "cell_type": "markdown",
   "metadata": {},
   "source": [
    "# Project 2 Task 5"
   ]
  },
  {
   "cell_type": "code",
   "execution_count": 79,
   "metadata": {},
   "outputs": [],
   "source": [
    "data = pd.read_excel(\"18EA1-5 database cleaned HO only-version2.xlsx\")"
   ]
  },
  {
   "cell_type": "markdown",
   "metadata": {},
   "source": [
    "### Data Analysis"
   ]
  },
  {
   "cell_type": "code",
   "execution_count": 2,
   "metadata": {
    "scrolled": true
   },
   "outputs": [
    {
     "data": {
      "text/html": [
       "<div>\n",
       "<style scoped>\n",
       "    .dataframe tbody tr th:only-of-type {\n",
       "        vertical-align: middle;\n",
       "    }\n",
       "\n",
       "    .dataframe tbody tr th {\n",
       "        vertical-align: top;\n",
       "    }\n",
       "\n",
       "    .dataframe thead th {\n",
       "        text-align: right;\n",
       "    }\n",
       "</style>\n",
       "<table border=\"1\" class=\"dataframe\">\n",
       "  <thead>\n",
       "    <tr style=\"text-align: right;\">\n",
       "      <th></th>\n",
       "      <th>Cow</th>\n",
       "      <th>Farm</th>\n",
       "      <th>System</th>\n",
       "      <th>Parity</th>\n",
       "      <th>ParityCategory</th>\n",
       "      <th>BCS</th>\n",
       "      <th>DIM</th>\n",
       "      <th>DIC</th>\n",
       "      <th>Pregnant</th>\n",
       "      <th>FatPEBV</th>\n",
       "      <th>...</th>\n",
       "      <th>10,12/preformed</th>\n",
       "      <th>20:2n6/preformed</th>\n",
       "      <th>22/preformed</th>\n",
       "      <th>20:3n6/preformed</th>\n",
       "      <th>20:4n6/preformed</th>\n",
       "      <th>20:5n3/preformed</th>\n",
       "      <th>MFD</th>\n",
       "      <th>(C13 - C11)/OBC</th>\n",
       "      <th>(C14 - C12)/DN</th>\n",
       "      <th>Trans as % of preformed</th>\n",
       "    </tr>\n",
       "  </thead>\n",
       "  <tbody>\n",
       "    <tr>\n",
       "      <th>0</th>\n",
       "      <td>43</td>\n",
       "      <td>1</td>\n",
       "      <td>CM</td>\n",
       "      <td>5</td>\n",
       "      <td>3plus</td>\n",
       "      <td>3.250</td>\n",
       "      <td>200.0</td>\n",
       "      <td>0</td>\n",
       "      <td>N</td>\n",
       "      <td>-0.200</td>\n",
       "      <td>...</td>\n",
       "      <td>0.00000</td>\n",
       "      <td>0.000726</td>\n",
       "      <td>0.000663</td>\n",
       "      <td>0.004169</td>\n",
       "      <td>0.003576</td>\n",
       "      <td>0.000746</td>\n",
       "      <td>No</td>\n",
       "      <td>0.017162</td>\n",
       "      <td>0.305421</td>\n",
       "      <td>0.075902</td>\n",
       "    </tr>\n",
       "    <tr>\n",
       "      <th>1</th>\n",
       "      <td>51</td>\n",
       "      <td>1</td>\n",
       "      <td>CM</td>\n",
       "      <td>5</td>\n",
       "      <td>3plus</td>\n",
       "      <td>2.750</td>\n",
       "      <td>72.0</td>\n",
       "      <td>0</td>\n",
       "      <td>U</td>\n",
       "      <td>0.070</td>\n",
       "      <td>...</td>\n",
       "      <td>0.00162</td>\n",
       "      <td>0.000000</td>\n",
       "      <td>0.000624</td>\n",
       "      <td>0.001575</td>\n",
       "      <td>0.002038</td>\n",
       "      <td>0.000000</td>\n",
       "      <td>Yes</td>\n",
       "      <td>0.022726</td>\n",
       "      <td>0.281875</td>\n",
       "      <td>0.197800</td>\n",
       "    </tr>\n",
       "    <tr>\n",
       "      <th>2</th>\n",
       "      <td>405</td>\n",
       "      <td>1</td>\n",
       "      <td>CM</td>\n",
       "      <td>5</td>\n",
       "      <td>3plus</td>\n",
       "      <td>NaN</td>\n",
       "      <td>212.0</td>\n",
       "      <td>0</td>\n",
       "      <td>N</td>\n",
       "      <td>NaN</td>\n",
       "      <td>...</td>\n",
       "      <td>0.00000</td>\n",
       "      <td>0.001104</td>\n",
       "      <td>0.001000</td>\n",
       "      <td>0.003100</td>\n",
       "      <td>0.004451</td>\n",
       "      <td>0.000705</td>\n",
       "      <td>No</td>\n",
       "      <td>0.010826</td>\n",
       "      <td>0.240153</td>\n",
       "      <td>0.084820</td>\n",
       "    </tr>\n",
       "    <tr>\n",
       "      <th>3</th>\n",
       "      <td>408</td>\n",
       "      <td>1</td>\n",
       "      <td>CM</td>\n",
       "      <td>4</td>\n",
       "      <td>3plus</td>\n",
       "      <td>2.750</td>\n",
       "      <td>211.0</td>\n",
       "      <td>0</td>\n",
       "      <td>U</td>\n",
       "      <td>-0.070</td>\n",
       "      <td>...</td>\n",
       "      <td>0.00000</td>\n",
       "      <td>0.001005</td>\n",
       "      <td>0.000442</td>\n",
       "      <td>0.002461</td>\n",
       "      <td>0.004562</td>\n",
       "      <td>0.000727</td>\n",
       "      <td>Yes</td>\n",
       "      <td>0.013623</td>\n",
       "      <td>0.296892</td>\n",
       "      <td>0.105783</td>\n",
       "    </tr>\n",
       "    <tr>\n",
       "      <th>4</th>\n",
       "      <td>423</td>\n",
       "      <td>1</td>\n",
       "      <td>CM</td>\n",
       "      <td>5</td>\n",
       "      <td>3plus</td>\n",
       "      <td>2.875</td>\n",
       "      <td>228.0</td>\n",
       "      <td>0</td>\n",
       "      <td>N</td>\n",
       "      <td>-0.215</td>\n",
       "      <td>...</td>\n",
       "      <td>0.00000</td>\n",
       "      <td>0.000849</td>\n",
       "      <td>0.000583</td>\n",
       "      <td>0.003857</td>\n",
       "      <td>0.003656</td>\n",
       "      <td>0.000480</td>\n",
       "      <td>Yes</td>\n",
       "      <td>0.011611</td>\n",
       "      <td>0.297311</td>\n",
       "      <td>0.098821</td>\n",
       "    </tr>\n",
       "  </tbody>\n",
       "</table>\n",
       "<p>5 rows × 130 columns</p>\n",
       "</div>"
      ],
      "text/plain": [
       "   Cow  Farm System  Parity ParityCategory    BCS    DIM  DIC Pregnant  \\\n",
       "0   43     1     CM       5          3plus  3.250  200.0    0        N   \n",
       "1   51     1     CM       5          3plus  2.750   72.0    0        U   \n",
       "2  405     1     CM       5          3plus    NaN  212.0    0        N   \n",
       "3  408     1     CM       4          3plus  2.750  211.0    0        U   \n",
       "4  423     1     CM       5          3plus  2.875  228.0    0        N   \n",
       "\n",
       "   FatPEBV           ...             10,12/preformed  20:2n6/preformed  \\\n",
       "0   -0.200           ...                     0.00000          0.000726   \n",
       "1    0.070           ...                     0.00162          0.000000   \n",
       "2      NaN           ...                     0.00000          0.001104   \n",
       "3   -0.070           ...                     0.00000          0.001005   \n",
       "4   -0.215           ...                     0.00000          0.000849   \n",
       "\n",
       "   22/preformed  20:3n6/preformed  20:4n6/preformed  20:5n3/preformed  MFD  \\\n",
       "0      0.000663          0.004169          0.003576          0.000746   No   \n",
       "1      0.000624          0.001575          0.002038          0.000000  Yes   \n",
       "2      0.001000          0.003100          0.004451          0.000705   No   \n",
       "3      0.000442          0.002461          0.004562          0.000727  Yes   \n",
       "4      0.000583          0.003857          0.003656          0.000480  Yes   \n",
       "\n",
       "   (C13 - C11)/OBC  (C14 - C12)/DN  Trans as % of preformed  \n",
       "0         0.017162        0.305421                 0.075902  \n",
       "1         0.022726        0.281875                 0.197800  \n",
       "2         0.010826        0.240153                 0.084820  \n",
       "3         0.013623        0.296892                 0.105783  \n",
       "4         0.011611        0.297311                 0.098821  \n",
       "\n",
       "[5 rows x 130 columns]"
      ]
     },
     "execution_count": 2,
     "metadata": {},
     "output_type": "execute_result"
    }
   ],
   "source": [
    "data.head(5)"
   ]
  },
  {
   "cell_type": "code",
   "execution_count": 3,
   "metadata": {},
   "outputs": [
    {
     "data": {
      "text/plain": [
       "count     1733\n",
       "unique       2\n",
       "top         CM\n",
       "freq       976\n",
       "Name: System, dtype: object"
      ]
     },
     "execution_count": 3,
     "metadata": {},
     "output_type": "execute_result"
    }
   ],
   "source": [
    "data.System.describe()"
   ]
  },
  {
   "cell_type": "code",
   "execution_count": 8,
   "metadata": {},
   "outputs": [
    {
     "name": "stdout",
     "output_type": "stream",
     "text": [
      "(919, 130)\n"
     ]
    }
   ],
   "source": [
    "##Choosing to analyze only pregnant cows\n",
    "\n",
    "data[data.Pregnant == \"P\"].shape\n",
    "pregnant = data[data.Pregnant == \"P\"]\n",
    "\n",
    "print(pregnant.shape)"
   ]
  },
  {
   "cell_type": "code",
   "execution_count": 9,
   "metadata": {},
   "outputs": [],
   "source": [
    "##waiting BCS - can adjust this\n",
    "\n",
    "def helper(row):\n",
    "    #return row.BCS\n",
    "    if row.BCS > 3:\n",
    "        return (5 - row.BCS)\n",
    "    elif row.BCS <= 3:\n",
    "        return (row.BCS)\n",
    "    \n",
    "\n",
    "def helper_mfd(row):\n",
    "    if row.MFD == \"Yes\":\n",
    "        return 1\n",
    "    return 0\n",
    "\n",
    "\n",
    "\n",
    "pregnant[\"BCS_adjusted\"] = pregnant.apply(helper,axis=1)\n",
    "pregnant.MFD = pregnant.apply(helper_mfd,axis=1)\n",
    "#print(list(pregnant)[102:])data = pd.read_excel(\"18EA1-5 database cleaned HO only-version2.xlsx\")"
   ]
  },
  {
   "cell_type": "code",
   "execution_count": 10,
   "metadata": {},
   "outputs": [
    {
     "name": "stdout",
     "output_type": "stream",
     "text": [
      "(657, 32)\n",
      "-0.1398229246987522 18:0/preformed\n",
      "0.08540313412325912 t4/preformed\n",
      "0.07307573484244075 t5/preformed\n",
      "0.1670758495957064 t6-8/preformed\n",
      "0.13438111675940273 t9/preformed\n",
      "0.15183226528148383 t10/preformed\n",
      "-0.06440307616593599 t11/preformed\n",
      "0.3790039620258264 t12/preformed\n",
      "0.08125031620986356 181c9/preformed\n",
      "-0.08027937853402746 t15/preformed\n",
      "0.45645255684116737 181c11/preformed\n",
      "0.03894879525762649 181c12/preformed\n",
      "-0.11019549781054284 18:2:9:12/preformed\n",
      "-0.27130074548723493 20/preformed\n",
      "-0.08345756894280736 18:3,6,9,12/preformed\n",
      "0.20707963526380882 20:1/preformed\n",
      "-0.004856784484236916 18:3,9,12,15/preformed\n",
      "0.028630401784711202 911/preformed\n",
      "0.09466022285641593 10,12/preformed\n",
      "-0.22236148485564056 20:2n6/preformed\n",
      "-0.2514613742464265 22/preformed\n",
      "-0.2004381756855989 20:3n6/preformed\n",
      "-0.2984929896186015 20:4n6/preformed\n",
      "0.1959296963297143 20:5n3/preformed\n",
      "0.21720769514035732 MFD\n",
      "0.3391366291177437 (C13 - C11)/OBC\n",
      "0.356271304633944 (C14 - C12)/DN\n",
      "0.16613952629883952 Trans as % of preformed\n",
      "0.30261293911462583 BCS_adjusted\n",
      "1.0 AvgMilk\n",
      "-0.2575432327588391 Fat%\n",
      "0.6730754577066944 FatY\n",
      "Cross val  0.27943306080657393\n",
      "0.48166981178499835\n"
     ]
    }
   ],
   "source": [
    "testing = pregnant[list(pregnant)[102:] + [\"AvgMilk\",\"Fat%\",\"FatY\"]]\n",
    "testing = testing.dropna()\n",
    "\n",
    "print(testing.shape)\n",
    "\n",
    "for name in list(testing):\n",
    "    print(pearsonr(testing[name],testing[\"AvgMilk\"])[0],name)\n",
    "    pass\n",
    "\n",
    "\n",
    "X_train, X_test, y_train, y_test = train_test_split(testing.drop([\"AvgMilk\",\"Fat%\",\"FatY\"],axis=1), testing[\"AvgMilk\"],test_size=0.25)\n",
    "lasso = Lasso(alpha=0)\n",
    "print(\"Cross val \", cross_val_score(lasso, X_train, y_train, cv=10).mean())\n",
    "lasso.fit(X_train,y_train)\n",
    "print(lasso.score(X_test, y_test))\n",
    "\n"
   ]
  },
  {
   "cell_type": "code",
   "execution_count": 11,
   "metadata": {},
   "outputs": [
    {
     "name": "stdout",
     "output_type": "stream",
     "text": [
      "(661, 13)\n",
      "MILK\n",
      "0.4491885844397981\n",
      "0.5092548608683317\n",
      "FATTYP\n",
      "(846, 19)\n",
      "0.4335867969763677\n",
      "0.412188777489583\n"
     ]
    }
   ],
   "source": [
    "milkAvg = pregnant[[\"AvgMilk\",\"DIM\",\"DIC\",\"t12/preformed\",\"181c11/preformed\",\"20/preformed\",\"20:1/preformed\",'MFD',\"20:2n6/preformed\",\"22/preformed\",\"20:3n6/preformed\",\"20:4n6/preformed\",\"BCS_adjusted\"]]\n",
    "milkAvg = milkAvg.dropna()\n",
    "print(milkAvg.shape)\n",
    "\n",
    "\n",
    "X_train, X_test, y_train, y_test = train_test_split(milkAvg.drop(\"AvgMilk\",axis=1), milkAvg[\"AvgMilk\"],test_size=0.3)\n",
    "print(\"MILK\")\n",
    "lasso = Lasso(alpha=0)\n",
    "lasso.fit(X_train,y_train)\n",
    "print(lasso.score(X_test, y_test))\n",
    "\n",
    "#Random Forest for Model 1\n",
    "randomf = RandomForestRegressor(n_estimators = 100)\n",
    "\n",
    "randomf.fit(X_train,y_train)\n",
    "print(randomf.score(X_test,y_test))\n",
    "\n",
    "\n",
    "\n",
    "#################################################\n",
    "#################################################\n",
    "#################################################\n",
    "#################################################\n",
    "#################################################\n",
    "#################################################\n",
    "print(\"FATTYP\")\n",
    "fatP = pregnant[[\"DIM\",\"DIC\",\"FatPEBV\",\"18:0/preformed\",\"t6-8/preformed\",\"t9/preformed\",\"t10/preformed\",\"t12/preformed\",\"181c11/preformed\",\"20/preformed\",\"18:3,6,9,12/preformed\",\"911/preformed\",\"10,12/preformed\",\"20:2n6/preformed\",\"22/preformed\",\"20:3n6/preformed\",\"20:4n6/preformed\",\"Trans as % of preformed\", \"Fat%\"]]\n",
    "fatP = fatP.dropna()\n",
    "print(fatP.shape)\n",
    "\n",
    "X_train, X_test, y_train, y_test = train_test_split(fatP.drop(\"Fat%\",axis=1), fatP[\"Fat%\"],test_size=0.3)\n",
    "\n",
    "lasso = Lasso(alpha=0)\n",
    "lasso.fit(X_train,y_train)\n",
    "print(lasso.score(X_test, y_test))\n",
    "\n",
    "#Random Forest for Model 1\n",
    "randomf = RandomForestRegressor(n_estimators = 100)\n",
    "\n",
    "randomf.fit(X_train,y_train)\n",
    "print(randomf.score(X_test,y_test))\n",
    "\n",
    "broken = pregnant[[\"DIM\",\"DIC\",\"FatPEBV\",\"Parity\",\"BCS_adjusted\",\"AvgRum\", \"AvgMilk\",\"Fat%\",\"FatY\",]]\n",
    "broken = broken.dropna()\n",
    "inputs = broken[[\"DIM\",\"DIC\",\"FatPEBV\",\"Parity\",\"BCS_adjusted\",\"AvgRum\"]]\n",
    "output = broken[[\"AvgMilk\"]]"
   ]
  },
  {
   "cell_type": "code",
   "execution_count": 12,
   "metadata": {},
   "outputs": [],
   "source": [
    "milkAvg = pregnant[[]]"
   ]
  },
  {
   "cell_type": "code",
   "execution_count": 13,
   "metadata": {},
   "outputs": [
    {
     "name": "stdout",
     "output_type": "stream",
     "text": [
      "-0.4724998276277692 DIM\n",
      "-0.32392081229291936 DIC\n",
      "-0.15649752371197642 FatPEBV\n",
      "0.15065842514765776 Parity\n",
      "0.3205551223408604 BCS_adjusted\n",
      "0.16981157829802587 AvgRum\n",
      "1.0 AvgMilk\n",
      "-0.2554153789350104 Fat%\n",
      "0.6785422021689433 FatY\n"
     ]
    }
   ],
   "source": [
    "output_name = \"Fat%\"\n",
    "for name in list(broken):\n",
    "    \"\"\"plt.figure(figsize=(13,7))\n",
    "    plt.scatter(fatP[name], fatP[output_name])\n",
    "    plt.title(name + ' vs ' + output_name)\n",
    "    plt.xlabel(name)\n",
    "    plt.ylabel(output_name)\"\"\"\n",
    "    print(pearsonr(broken[name], broken[\"AvgMilk\"])[0],name)\n"
   ]
  },
  {
   "cell_type": "code",
   "execution_count": 14,
   "metadata": {},
   "outputs": [],
   "source": [
    "X_train, X_test, y_train, y_test = train_test_split(inputs, broken[\"Fat%\"], test_size=0.3)"
   ]
  },
  {
   "cell_type": "code",
   "execution_count": 17,
   "metadata": {},
   "outputs": [
    {
     "name": "stdout",
     "output_type": "stream",
     "text": [
      "0.11956669771620299\n"
     ]
    }
   ],
   "source": [
    "lasso = Lasso(alpha=0)\n",
    "lasso.fit(X_train,y_train)\n",
    "print(lasso.score(X_test, y_test))\n",
    "\n",
    "\n",
    "\n"
   ]
  },
  {
   "cell_type": "code",
   "execution_count": 113,
   "metadata": {
    "scrolled": true
   },
   "outputs": [
    {
     "data": {
      "text/plain": [
       "Index(['Cow', '16/16C', 'i16/OBC', '15/OBC', '14:1c9/DN', 'a15/OBC', '14/DN',\n",
       "       '13/OBC', 'C10:1c9/DN', 'C10/DN',\n",
       "       ...\n",
       "       'C18:3c6c9c12', 'C18:3c9c12c15', 'FatPEBV', 'C18:1t5', 'iC13:0',\n",
       "       'i130/OBC', 'C18:1t4', 'C20:1c11', 'BCS', 'C20:2n6'],\n",
       "      dtype='object', length=130)"
      ]
     },
     "execution_count": 113,
     "metadata": {},
     "output_type": "execute_result"
    }
   ],
   "source": [
    "data.isnull().sum().sort_values().index"
   ]
  },
  {
   "cell_type": "code",
   "execution_count": 118,
   "metadata": {},
   "outputs": [],
   "source": [
    "null_summary = data.isnull().sum().sort_values()"
   ]
  },
  {
   "cell_type": "code",
   "execution_count": 122,
   "metadata": {},
   "outputs": [
    {
     "data": {
      "text/plain": [
       "array([  0,   0,   0,   0,   0,   0,   0,   0,   0,   0,   0,   0,   0,\n",
       "         0,   0,   0,   0,   0,   0,   0,   0,   0,   0,   0,   0,   0,\n",
       "         0,   0,   0,   0,   0,   0,   0,   0,   0,   0,   0,   0,   0,\n",
       "         0,   0,   0,   0,   0,   0,   0,   0,   0,   0,   0,   0,   0,\n",
       "         0,   0,   0,   0,   0,   0,   0,   0,   0,   0,   0,   0,   0,\n",
       "         0,   0,   0,   0,   0,   0,   0,   0,   0,   0,   0,   0,   0,\n",
       "         0,   0,   0,   0,   0,   0,   0,   0,   0,   0,   0,   0,   1,\n",
       "         1,   1,   1,   1,   1,   1,   1,   1,   1,   1,   1,   1,   2,\n",
       "         2,   7,   8,   9,  11,  13,  14,  14,  16,  16,  22,  25,  32,\n",
       "        56, 108, 108, 114, 116, 118, 170, 171, 171, 177, 273, 452, 959])"
      ]
     },
     "execution_count": 122,
     "metadata": {},
     "output_type": "execute_result"
    }
   ],
   "source": [
    "null_summary.values"
   ]
  },
  {
   "cell_type": "code",
   "execution_count": 124,
   "metadata": {},
   "outputs": [
    {
     "name": "stdout",
     "output_type": "stream",
     "text": [
      "Cow 0\n",
      "16/16C 0\n",
      "i16/OBC 0\n",
      "15/OBC 0\n",
      "14:1c9/DN 0\n",
      "a15/OBC 0\n",
      "14/DN 0\n",
      "13/OBC 0\n",
      "C10:1c9/DN 0\n",
      "C10/DN 0\n",
      "C8/DN 0\n",
      "16c9/16C 0\n",
      "C6/DN 0\n",
      "C22:5n3 0\n",
      "C22:4n6 0\n",
      "C24:1n9 0\n",
      "C24:0 0\n",
      "C20:5n3 0\n",
      "CLAt10c12 0\n",
      "C18:1c12 0\n",
      "C18:1c11 0\n",
      "C18:1c9 0\n",
      "C18:1t10 0\n",
      "C4/DN 0\n",
      "17:1c10/OBC 0\n",
      "18:0/preformed 0\n",
      "t4/preformed 0\n",
      "MFD 0\n",
      "20:5n3/preformed 0\n",
      "20:4n6/preformed 0\n",
      "20:3n6/preformed 0\n",
      "22/preformed 0\n",
      "20:2n6/preformed 0\n",
      "10,12/preformed 0\n",
      "911/preformed 0\n",
      "18:3,9,12,15/preformed 0\n",
      "20:1/preformed 0\n",
      "18:3,6,9,12/preformed 0\n",
      "20/preformed 0\n",
      "18:2:9:12/preformed 0\n",
      "181c12/preformed 0\n",
      "181c11/preformed 0\n",
      "t15/preformed 0\n",
      "181c9/preformed 0\n",
      "t12/preformed 0\n",
      "t11/preformed 0\n",
      "t10/preformed 0\n",
      "t9/preformed 0\n",
      "t6-8/preformed 0\n",
      "t5/preformed 0\n",
      "C18:1t9 0\n",
      "C18:0 0\n",
      "Trans as % of preformed 0\n",
      "C10:1c9 0\n",
      "aC15:0 0\n",
      "OBCyield 0\n",
      "C14:0 0\n",
      "C13:0 0\n",
      "DN 0\n",
      "OBC 0\n",
      "C17:1c10 0\n",
      "16C 0\n",
      "C14:1c9 0\n",
      "C10:0 0\n",
      "C6:0 0\n",
      "C4:0 0\n",
      "AvgRum 0\n",
      "18Cplusyield 0\n",
      "18C 0\n",
      "18Cplus 0\n",
      "18Cyield 0\n",
      "16Cyield 0\n",
      "C8:0 0\n",
      "C15:0 0\n",
      "0.4 FCM 0\n",
      "SCCS 0\n",
      "Farm 0\n",
      "System 0\n",
      "Parity 0\n",
      "C16:1c9 0\n",
      "ParityCategory 0\n",
      "C16:0 0\n",
      "DIC 0\n",
      "ECM 0\n",
      "Pregnant 0\n",
      "DNyield 0\n",
      "AvgMilk 0\n",
      "ProY 0\n",
      "Pro% 0\n",
      "iC16:0 0\n",
      "C12/DN 1\n",
      "(C13 - C11)/OBC 1\n",
      "C18:1t6-8 1\n",
      "C18:1t11 1\n",
      "CLAc9t11 1\n",
      "C11:0 1\n",
      "DIM 1\n",
      "FatY 1\n",
      "(C14 - C12)/DN 1\n",
      "aC13:0 1\n",
      "a130/OBC 1\n",
      "C12:0 1\n",
      "C11/OBC 1\n",
      "i14/OBC 2\n",
      "iC14:0 2\n",
      "C18:2c9c12 7\n",
      "iC17:0 8\n",
      "C20:0 9\n",
      "C18:1t12 11\n",
      "Fat% 13\n",
      "i15/OBC 14\n",
      "iC15:0 14\n",
      "C17:0 16\n",
      "17/OBC 16\n",
      "C18:1t15 22\n",
      "C20:3n6 25\n",
      "C20:4n6 32\n",
      "C22:0 56\n",
      "a17/OBC 108\n",
      "aC17:0 108\n",
      "C18:3c6c9c12 114\n",
      "C18:3c9c12c15 116\n",
      "FatPEBV 118\n",
      "C18:1t5 170\n",
      "iC13:0 171\n",
      "i130/OBC 171\n",
      "C18:1t4 177\n",
      "C20:1c11 273\n",
      "BCS 452\n",
      "C20:2n6 959\n"
     ]
    }
   ],
   "source": [
    "for i, j in zip(null_summary.index, null_summary.values):\n",
    "    print(i, j)"
   ]
  },
  {
   "cell_type": "code",
   "execution_count": 135,
   "metadata": {},
   "outputs": [],
   "source": [
    "filtered_data = data.select_dtypes(include=\"float\")"
   ]
  },
  {
   "cell_type": "code",
   "execution_count": 136,
   "metadata": {},
   "outputs": [],
   "source": [
    "numerical_features = filtered_data.columns\n",
    "categorical_features = data.columns.difference(filtered_data.columns)"
   ]
  },
  {
   "cell_type": "code",
   "execution_count": 140,
   "metadata": {},
   "outputs": [],
   "source": [
    "targets = [\"AvgMilk\", \"Fat%\", \"FatY\", \"Pro%\", \"ProY\"]"
   ]
  },
  {
   "cell_type": "code",
   "execution_count": 153,
   "metadata": {
    "scrolled": true
   },
   "outputs": [],
   "source": [
    "X = filtered_data.drop(targets + [\"BCS\", \"C20:2n6\"], axis=1).dropna()\n",
    "y = data.loc[X.index, targets].dropna()\n",
    "X = X.loc[y.index, :]"
   ]
  },
  {
   "cell_type": "code",
   "execution_count": 198,
   "metadata": {},
   "outputs": [
    {
     "name": "stdout",
     "output_type": "stream",
     "text": [
      "     DIM  FatPEBV  SCCS   ECM  0.4 FCM     DN       OBC    16C    18C  \\\n",
      "3  211.0   -0.070   5.1  96.0    86.41  24.74  4.272894  36.65  32.40   \n",
      "4  228.0   -0.215   1.5  87.0    81.13  23.12  3.329128  32.65  39.15   \n",
      "5  140.0    0.035   1.0  85.0    77.44  28.72  3.166403  30.98  35.25   \n",
      "6   35.0    0.145   3.5  99.0    88.07  23.23  3.345810  32.25  37.91   \n",
      "7   67.0   -0.075   1.0  95.0    90.33  24.44  2.911895  32.17  38.71   \n",
      "\n",
      "   18Cplus           ...             911/preformed  10,12/preformed  \\\n",
      "3    32.85           ...                  0.025479              0.0   \n",
      "4    39.72           ...                  0.019726              0.0   \n",
      "5    35.84           ...                  0.014311              0.0   \n",
      "6    38.41           ...                  0.020093              0.0   \n",
      "7    39.18           ...                  0.017931              0.0   \n",
      "\n",
      "   20:2n6/preformed  22/preformed  20:3n6/preformed  20:4n6/preformed  \\\n",
      "3          0.001005      0.000442          0.002461          0.004562   \n",
      "4          0.000849      0.000583          0.003857          0.003656   \n",
      "5          0.000872      0.000666          0.003950          0.005099   \n",
      "6          0.000000      0.000963          0.001993          0.004491   \n",
      "7          0.000640      0.000391          0.002447          0.003750   \n",
      "\n",
      "   20:5n3/preformed  (C13 - C11)/OBC  (C14 - C12)/DN  Trans as % of preformed  \n",
      "3          0.000727         0.013623        0.296892                 0.105783  \n",
      "4          0.000480         0.011611        0.297311                 0.098821  \n",
      "5          0.000920         0.010509        0.232061                 0.088071  \n",
      "6          0.000000         0.011102        0.238753                 0.112254  \n",
      "7          0.000665         0.013745        0.266629                 0.088153  \n",
      "\n",
      "[5 rows x 115 columns]\n",
      "   AvgMilk  Fat%  FatY  Pro%  ProY\n",
      "3     94.9   3.4  3.23   3.2  3.04\n",
      "4     90.7   3.3  2.99   2.8  2.54\n",
      "5     81.1   3.7  3.00   3.2  2.60\n",
      "6     96.8   3.4  3.29   2.9  2.81\n",
      "7    106.2   3.0  3.19   2.6  2.76\n"
     ]
    }
   ],
   "source": [
    "print(X.head())\n",
    "print(y.head())"
   ]
  },
  {
   "cell_type": "code",
   "execution_count": 185,
   "metadata": {},
   "outputs": [
    {
     "name": "stdout",
     "output_type": "stream",
     "text": [
      "[9.12970590e-01 5.41398360e-02 2.81812590e-02 4.23315307e-03\n",
      " 3.17221866e-04 1.04856566e-04 3.37852606e-05 9.17645160e-06\n",
      " 3.06981736e-06 2.28280724e-06 1.79754699e-06 8.83225043e-07\n",
      " 6.46079343e-07 3.56652563e-07 3.18712608e-07 2.02603777e-07\n",
      " 1.75246241e-07 7.27161304e-08 6.69674179e-08 5.23718398e-08\n",
      " 4.16886064e-08 3.44461978e-08 2.85432564e-08 1.46252783e-08\n",
      " 1.31567192e-08 1.19436602e-08 1.01156479e-08 7.05144199e-09\n",
      " 5.00635205e-09 3.92325211e-09 3.44348877e-09 3.06167917e-09\n",
      " 2.43487501e-09 2.36943674e-09 2.27135323e-09 1.76785063e-09\n",
      " 1.53608531e-09 1.37761922e-09 1.15268439e-09 1.00497087e-09\n",
      " 8.22753987e-10 7.18816744e-10 6.54363623e-10 5.94824968e-10\n",
      " 4.95848585e-10 4.79463042e-10 3.54333889e-10 3.28957448e-10\n",
      " 2.92925495e-10 2.17874801e-10 1.86234201e-10 1.72035159e-10\n",
      " 1.18519046e-10 1.18118741e-10 9.70962495e-11 8.93400272e-11\n",
      " 7.91509183e-11 5.82358635e-11 5.07681735e-11 4.80910223e-11\n",
      " 3.79116828e-11 3.72377152e-11 3.02416585e-11 2.53612166e-11\n",
      " 2.42160477e-11 2.16764514e-11 1.84128247e-11 1.46649141e-11\n",
      " 1.33146403e-11 1.20103963e-11 9.00037243e-12 8.70037728e-12\n",
      " 6.56857262e-12 4.88961176e-12 4.59968073e-12 2.63229125e-12\n",
      " 2.26355504e-12 2.01257021e-12 1.67004257e-12 1.30933063e-12\n",
      " 9.55074167e-13 8.22744868e-13 5.55293492e-13 4.29014432e-13\n",
      " 3.26935481e-13 3.19372581e-13 2.91712152e-13 2.09716263e-13\n",
      " 1.72987570e-13 1.56565823e-13 1.43550023e-13 1.01867130e-13\n",
      " 8.02852549e-14 5.77558614e-14 5.10418790e-14 4.42378168e-14\n",
      " 3.40144186e-14 2.69325969e-14 2.40880139e-14 2.07006121e-14\n",
      " 1.16122447e-14 6.63282879e-15 6.15146922e-15 5.24686590e-15\n",
      " 2.56564876e-15 1.86145552e-15 1.27620071e-15 1.09733980e-15\n",
      " 8.25070328e-16 4.87466457e-16 3.40339078e-16 1.16347878e-16\n",
      " 3.42281693e-25 6.67755257e-33 6.67755257e-33]\n",
      "[1.30698818e+04 3.18274418e+03 2.29627269e+03 8.89969762e+02\n",
      " 2.43626666e+02 1.40068694e+02 7.95072810e+01 4.14362700e+01\n",
      " 2.39662196e+01 2.06670212e+01 1.83393268e+01 1.28552034e+01\n",
      " 1.09947711e+01 8.16894439e+00 7.72223274e+00 6.15696994e+00\n",
      " 5.72621460e+00 3.68857522e+00 3.53976998e+00 3.13034483e+00\n",
      " 2.79287793e+00 2.53871477e+00 2.31097381e+00 1.65422788e+00\n",
      " 1.56897877e+00 1.49489946e+00 1.37575189e+00 1.14863550e+00\n",
      " 9.67840871e-01 8.56774187e-01 8.02680293e-01 7.56873160e-01\n",
      " 6.74965540e-01 6.65833778e-01 6.51906939e-01 5.75130035e-01\n",
      " 5.36106327e-01 5.07700816e-01 4.64406695e-01 4.33630680e-01\n",
      " 3.92354161e-01 3.66734998e-01 3.49907168e-01 3.33609078e-01\n",
      " 3.04591517e-01 2.99516556e-01 2.57483622e-01 2.48092209e-01\n",
      " 2.34111017e-01 2.01904857e-01 1.86669337e-01 1.79412159e-01\n",
      " 1.48914620e-01 1.48662923e-01 1.34785909e-01 1.29290408e-01\n",
      " 1.21694582e-01 1.04385103e-01 9.74628337e-02 9.48582852e-02\n",
      " 8.42228233e-02 8.34708388e-02 7.52222063e-02 6.88855780e-02\n",
      " 6.73123723e-02 6.36850300e-02 5.86953199e-02 5.23821146e-02\n",
      " 4.99123460e-02 4.74047579e-02 4.10368017e-02 4.03470984e-02\n",
      " 3.50573244e-02 3.02468709e-02 2.93364196e-02 2.21927047e-02\n",
      " 2.05796884e-02 1.94052296e-02 1.76769379e-02 1.56519311e-02\n",
      " 1.33678577e-02 1.24072592e-02 1.01930594e-02 8.95940597e-03\n",
      " 7.82121623e-03 7.73022400e-03 7.38789179e-03 6.26410920e-03\n",
      " 5.68919361e-03 5.41242320e-03 5.18256667e-03 4.36576445e-03\n",
      " 3.87579823e-03 3.28731482e-03 3.09034234e-03 2.87700163e-03\n",
      " 2.52275334e-03 2.24482443e-03 2.12296953e-03 1.96804425e-03\n",
      " 1.47401314e-03 1.11401916e-03 1.07283440e-03 9.90816538e-04\n",
      " 6.92854218e-04 5.90159763e-04 4.88655459e-04 4.53120624e-04\n",
      " 3.92906080e-04 3.02006043e-04 2.52347597e-04 1.47544321e-04\n",
      " 8.00267354e-09 1.11776864e-12 1.11776864e-12]\n"
     ]
    }
   ],
   "source": [
    "pca = PCA(n_components=115)\n",
    "pca.fit(X, y[\"AvgMilk\"])\n",
    "print(pca.explained_variance_ratio_)  \n",
    "print(pca.singular_values_) "
   ]
  },
  {
   "cell_type": "code",
   "execution_count": 199,
   "metadata": {},
   "outputs": [],
   "source": [
    "new_X = pca.transform(X)\n",
    "X_train, X_test, y_train, y_test = train_test_split(X, y[\"FatY\"],test_size = .2)"
   ]
  },
  {
   "cell_type": "code",
   "execution_count": 200,
   "metadata": {
    "scrolled": true
   },
   "outputs": [
    {
     "name": "stdout",
     "output_type": "stream",
     "text": [
      "0.9999477690441573\n"
     ]
    }
   ],
   "source": [
    "lasso = Lasso(alpha=0)\n",
    "lasso.fit(X_train, y_train)\n",
    "print(lasso.score(X_test, y_test))"
   ]
  },
  {
   "cell_type": "code",
   "execution_count": 183,
   "metadata": {},
   "outputs": [
    {
     "data": {
      "text/plain": [
       "(1733, 130)"
      ]
     },
     "execution_count": 183,
     "metadata": {},
     "output_type": "execute_result"
    }
   ],
   "source": [
    "data.shape"
   ]
  },
  {
   "cell_type": "code",
   "execution_count": 194,
   "metadata": {},
   "outputs": [
    {
     "data": {
      "text/plain": [
       "['DIM',\n",
       " 'FatPEBV',\n",
       " 'SCCS',\n",
       " 'ECM',\n",
       " '0.4 FCM',\n",
       " 'DN',\n",
       " 'OBC',\n",
       " '16C',\n",
       " '18C',\n",
       " '18Cplus',\n",
       " 'DNyield',\n",
       " 'OBCyield',\n",
       " '16Cyield',\n",
       " '18Cyield',\n",
       " '18Cplusyield',\n",
       " 'AvgRum',\n",
       " 'C4:0',\n",
       " 'C6:0',\n",
       " 'C8:0',\n",
       " 'C10:0',\n",
       " 'C10:1c9',\n",
       " 'C11:0',\n",
       " 'C12:0',\n",
       " 'iC13:0',\n",
       " 'aC13:0',\n",
       " 'C13:0',\n",
       " 'iC14:0',\n",
       " 'C14:0',\n",
       " 'iC15:0',\n",
       " 'aC15:0',\n",
       " 'C14:1c9',\n",
       " 'C15:0',\n",
       " 'iC16:0',\n",
       " 'C16:0',\n",
       " 'iC17:0',\n",
       " 'C16:1c9',\n",
       " 'aC17:0',\n",
       " 'C17:0',\n",
       " 'C17:1c10',\n",
       " 'C18:0',\n",
       " 'C18:1t4',\n",
       " 'C18:1t5',\n",
       " 'C18:1t6-8',\n",
       " 'C18:1t9',\n",
       " 'C18:1t10',\n",
       " 'C18:1t11',\n",
       " 'C18:1t12',\n",
       " 'C18:1c9',\n",
       " 'C18:1t15',\n",
       " 'C18:1c11',\n",
       " 'C18:1c12',\n",
       " 'C18:2c9c12',\n",
       " 'C20:0',\n",
       " 'C18:3c6c9c12',\n",
       " 'C20:1c11',\n",
       " 'C18:3c9c12c15',\n",
       " 'CLAc9t11',\n",
       " 'CLAt10c12',\n",
       " 'C22:0',\n",
       " 'C20:3n6',\n",
       " 'C20:4n6',\n",
       " 'C20:5n3',\n",
       " 'C24:0',\n",
       " 'C24:1n9',\n",
       " 'C22:4n6',\n",
       " 'C22:5n3',\n",
       " 'C4/DN',\n",
       " 'C6/DN',\n",
       " 'C8/DN',\n",
       " 'C10/DN',\n",
       " 'C10:1c9/DN',\n",
       " 'C11/OBC',\n",
       " 'C12/DN',\n",
       " 'i130/OBC',\n",
       " 'a130/OBC',\n",
       " '13/OBC',\n",
       " 'i14/OBC',\n",
       " '14/DN',\n",
       " 'i15/OBC',\n",
       " 'a15/OBC',\n",
       " '14:1c9/DN',\n",
       " '15/OBC',\n",
       " 'i16/OBC',\n",
       " '16/16C',\n",
       " '16c9/16C',\n",
       " 'a17/OBC',\n",
       " '17/OBC',\n",
       " '17:1c10/OBC',\n",
       " '18:0/preformed',\n",
       " 't4/preformed',\n",
       " 't5/preformed',\n",
       " 't6-8/preformed',\n",
       " 't9/preformed',\n",
       " 't10/preformed',\n",
       " 't11/preformed',\n",
       " 't12/preformed',\n",
       " '181c9/preformed',\n",
       " 't15/preformed',\n",
       " '181c11/preformed',\n",
       " '181c12/preformed',\n",
       " '18:2:9:12/preformed',\n",
       " '20/preformed',\n",
       " '18:3,6,9,12/preformed',\n",
       " '20:1/preformed',\n",
       " '18:3,9,12,15/preformed',\n",
       " '911/preformed',\n",
       " '10,12/preformed',\n",
       " '20:2n6/preformed',\n",
       " '22/preformed',\n",
       " '20:3n6/preformed',\n",
       " '20:4n6/preformed',\n",
       " '20:5n3/preformed',\n",
       " '(C13 - C11)/OBC',\n",
       " '(C14 - C12)/DN',\n",
       " 'Trans as % of preformed']"
      ]
     },
     "execution_count": 194,
     "metadata": {},
     "output_type": "execute_result"
    }
   ],
   "source": [
    "list(X)"
   ]
  },
  {
   "cell_type": "code",
   "execution_count": null,
   "metadata": {},
   "outputs": [],
   "source": []
  }
 ],
 "metadata": {
  "kernelspec": {
   "display_name": "Python 3",
   "language": "python",
   "name": "python3"
  },
  "language_info": {
   "codemirror_mode": {
    "name": "ipython",
    "version": 3
   },
   "file_extension": ".py",
   "mimetype": "text/x-python",
   "name": "python",
   "nbconvert_exporter": "python",
   "pygments_lexer": "ipython3",
   "version": "3.6.8"
  }
 },
 "nbformat": 4,
 "nbformat_minor": 2
}

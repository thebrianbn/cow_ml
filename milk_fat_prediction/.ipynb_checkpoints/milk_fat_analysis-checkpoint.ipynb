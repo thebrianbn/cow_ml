{
 "cells": [
  {
   "cell_type": "code",
   "execution_count": 3,
   "metadata": {},
   "outputs": [],
   "source": [
    "from matplotlib import pyplot as plt\n",
    "import numpy as np\n",
    "import pandas as pd\n",
    "from sklearn.linear_model import Lasso\n",
    "from sklearn.model_selection import train_test_split, cross_val_score\n",
    "from sklearn.metrics import accuracy_score\n",
    "import warnings\n",
    "%matplotlib inline\n",
    "warnings.filterwarnings('ignore')"
   ]
  },
  {
   "cell_type": "code",
   "execution_count": 4,
   "metadata": {},
   "outputs": [],
   "source": [
    "# Read in dataset 1\n",
    "data = pd.read_excel(\"dataset_1.xls\")"
   ]
  },
  {
   "cell_type": "markdown",
   "metadata": {},
   "source": [
    "# Data Cleaning\n",
    "\n",
    "From the initial viewing of the data, we noticed that many instances had missing data for some dates (usually tdate10 through tdate12). For now, we have set those values to NaN. For the non-date values, we imputed values as the column's average.\n",
    "\n",
    "We also noticed whitespace occurred in the columns. We erased them and lowercased the names for simplicity."
   ]
  },
  {
   "cell_type": "code",
   "execution_count": 5,
   "metadata": {},
   "outputs": [],
   "source": [
    "# Example of an instance without data for each date, shows column formatting as well\n",
    "#data.iloc[1,:]"
   ]
  },
  {
   "cell_type": "code",
   "execution_count": 6,
   "metadata": {
    "scrolled": true
   },
   "outputs": [],
   "source": [
    "# Remove whitespace from column names\n",
    "data.columns = list(map(lambda x: x.strip().lower(), data.columns))\n",
    "\n",
    "# Find values of '  .' and set to NaN, or impute mean\n",
    "for col in data.columns:\n",
    "    try:\n",
    "        data[col][data[col] == '  .'] = np.nan\n",
    "        data[col][data[col] == ' . '] = np.nan\n",
    "        data[col][data[col].apply(lambda x: x == '    .')] = \\\n",
    "            (data[col][data[col].apply(lambda x: x != '    .')]).mean()\n",
    "        if \"date\" not in col:\n",
    "            data[col] = data[col].astype(float)\n",
    "    except:\n",
    "        continue\n",
    "\n",
    "# Remove rows with missing rhap and rhaf values\n",
    "data = data[~data.rhap.apply(lambda x: x == '   .')]\n",
    "data = data[~data.rhaf.apply(lambda x: x == '   .')]"
   ]
  },
  {
   "cell_type": "markdown",
   "metadata": {},
   "source": [
    "# Data Analysis"
   ]
  },
  {
   "cell_type": "code",
   "execution_count": 7,
   "metadata": {},
   "outputs": [
    {
     "data": {
      "text/plain": [
       "(7868, 59)"
      ]
     },
     "execution_count": 7,
     "metadata": {},
     "output_type": "execute_result"
    }
   ],
   "source": [
    "# Dimensions of data\n",
    "data.shape"
   ]
  },
  {
   "cell_type": "code",
   "execution_count": 8,
   "metadata": {},
   "outputs": [
    {
     "data": {
      "text/html": [
       "<div>\n",
       "<style scoped>\n",
       "    .dataframe tbody tr th:only-of-type {\n",
       "        vertical-align: middle;\n",
       "    }\n",
       "\n",
       "    .dataframe tbody tr th {\n",
       "        vertical-align: top;\n",
       "    }\n",
       "\n",
       "    .dataframe thead th {\n",
       "        text-align: right;\n",
       "    }\n",
       "</style>\n",
       "<table border=\"1\" class=\"dataframe\">\n",
       "  <thead>\n",
       "    <tr style=\"text-align: right;\">\n",
       "      <th></th>\n",
       "      <th>state</th>\n",
       "      <th>herd</th>\n",
       "      <th># ptas</th>\n",
       "      <th>ptam</th>\n",
       "      <th>ptaf</th>\n",
       "      <th>ptap</th>\n",
       "      <th>rha # cows</th>\n",
       "      <th>% w ptas</th>\n",
       "      <th>rham</th>\n",
       "      <th>milk1</th>\n",
       "      <th>...</th>\n",
       "      <th>pro9</th>\n",
       "      <th>milk10</th>\n",
       "      <th>fat10</th>\n",
       "      <th>pro10</th>\n",
       "      <th>milk11</th>\n",
       "      <th>fat11</th>\n",
       "      <th>pro11</th>\n",
       "      <th>milk12</th>\n",
       "      <th>fat12</th>\n",
       "      <th>pro12</th>\n",
       "    </tr>\n",
       "  </thead>\n",
       "  <tbody>\n",
       "    <tr>\n",
       "      <th>count</th>\n",
       "      <td>7868.000000</td>\n",
       "      <td>7868.000000</td>\n",
       "      <td>7868.000000</td>\n",
       "      <td>7868.000000</td>\n",
       "      <td>7868.000000</td>\n",
       "      <td>7868.000000</td>\n",
       "      <td>7868.000000</td>\n",
       "      <td>7868.000000</td>\n",
       "      <td>7868.000000</td>\n",
       "      <td>7868.000000</td>\n",
       "      <td>...</td>\n",
       "      <td>6377.000000</td>\n",
       "      <td>5862.000000</td>\n",
       "      <td>5862.000000</td>\n",
       "      <td>5862.000000</td>\n",
       "      <td>5084.000000</td>\n",
       "      <td>5084.000000</td>\n",
       "      <td>5084.000000</td>\n",
       "      <td>3792.000000</td>\n",
       "      <td>3792.000000</td>\n",
       "      <td>3792.000000</td>\n",
       "    </tr>\n",
       "    <tr>\n",
       "      <th>mean</th>\n",
       "      <td>31.645018</td>\n",
       "      <td>3948.971022</td>\n",
       "      <td>142.494026</td>\n",
       "      <td>151.996187</td>\n",
       "      <td>9.072572</td>\n",
       "      <td>5.805923</td>\n",
       "      <td>214.635613</td>\n",
       "      <td>62.069268</td>\n",
       "      <td>22967.245933</td>\n",
       "      <td>61.246441</td>\n",
       "      <td>...</td>\n",
       "      <td>3.150902</td>\n",
       "      <td>62.032071</td>\n",
       "      <td>3.875384</td>\n",
       "      <td>3.140873</td>\n",
       "      <td>61.739772</td>\n",
       "      <td>3.805566</td>\n",
       "      <td>3.096755</td>\n",
       "      <td>62.259757</td>\n",
       "      <td>3.779562</td>\n",
       "      <td>3.064030</td>\n",
       "    </tr>\n",
       "    <tr>\n",
       "      <th>std</th>\n",
       "      <td>11.873456</td>\n",
       "      <td>2279.585578</td>\n",
       "      <td>355.704442</td>\n",
       "      <td>354.728682</td>\n",
       "      <td>12.943216</td>\n",
       "      <td>10.895686</td>\n",
       "      <td>440.014365</td>\n",
       "      <td>28.295911</td>\n",
       "      <td>4037.126645</td>\n",
       "      <td>12.274327</td>\n",
       "      <td>...</td>\n",
       "      <td>0.134823</td>\n",
       "      <td>11.677153</td>\n",
       "      <td>0.320749</td>\n",
       "      <td>0.137300</td>\n",
       "      <td>11.787988</td>\n",
       "      <td>0.313746</td>\n",
       "      <td>0.127782</td>\n",
       "      <td>11.521145</td>\n",
       "      <td>0.301008</td>\n",
       "      <td>0.122117</td>\n",
       "    </tr>\n",
       "    <tr>\n",
       "      <th>min</th>\n",
       "      <td>11.000000</td>\n",
       "      <td>1.000000</td>\n",
       "      <td>1.000000</td>\n",
       "      <td>-2940.000000</td>\n",
       "      <td>-108.000000</td>\n",
       "      <td>-99.000000</td>\n",
       "      <td>2.000000</td>\n",
       "      <td>0.000000</td>\n",
       "      <td>462.000000</td>\n",
       "      <td>2.000000</td>\n",
       "      <td>...</td>\n",
       "      <td>2.500000</td>\n",
       "      <td>15.000000</td>\n",
       "      <td>2.200000</td>\n",
       "      <td>2.500000</td>\n",
       "      <td>17.000000</td>\n",
       "      <td>2.400000</td>\n",
       "      <td>2.500000</td>\n",
       "      <td>15.000000</td>\n",
       "      <td>2.400000</td>\n",
       "      <td>2.500000</td>\n",
       "    </tr>\n",
       "    <tr>\n",
       "      <th>25%</th>\n",
       "      <td>23.000000</td>\n",
       "      <td>1976.750000</td>\n",
       "      <td>31.000000</td>\n",
       "      <td>-1.000000</td>\n",
       "      <td>3.000000</td>\n",
       "      <td>1.000000</td>\n",
       "      <td>60.000000</td>\n",
       "      <td>45.000000</td>\n",
       "      <td>20598.000000</td>\n",
       "      <td>54.000000</td>\n",
       "      <td>...</td>\n",
       "      <td>3.100000</td>\n",
       "      <td>55.000000</td>\n",
       "      <td>3.700000</td>\n",
       "      <td>3.100000</td>\n",
       "      <td>54.000000</td>\n",
       "      <td>3.600000</td>\n",
       "      <td>3.000000</td>\n",
       "      <td>55.000000</td>\n",
       "      <td>3.600000</td>\n",
       "      <td>3.000000</td>\n",
       "    </tr>\n",
       "    <tr>\n",
       "      <th>50%</th>\n",
       "      <td>31.000000</td>\n",
       "      <td>3947.500000</td>\n",
       "      <td>58.000000</td>\n",
       "      <td>213.000000</td>\n",
       "      <td>11.000000</td>\n",
       "      <td>7.000000</td>\n",
       "      <td>94.000000</td>\n",
       "      <td>71.000000</td>\n",
       "      <td>23328.000000</td>\n",
       "      <td>62.000000</td>\n",
       "      <td>...</td>\n",
       "      <td>3.100000</td>\n",
       "      <td>63.000000</td>\n",
       "      <td>3.900000</td>\n",
       "      <td>3.100000</td>\n",
       "      <td>62.000000</td>\n",
       "      <td>3.800000</td>\n",
       "      <td>3.100000</td>\n",
       "      <td>63.000000</td>\n",
       "      <td>3.800000</td>\n",
       "      <td>3.100000</td>\n",
       "    </tr>\n",
       "    <tr>\n",
       "      <th>75%</th>\n",
       "      <td>41.000000</td>\n",
       "      <td>5921.250000</td>\n",
       "      <td>117.000000</td>\n",
       "      <td>371.000000</td>\n",
       "      <td>17.000000</td>\n",
       "      <td>12.000000</td>\n",
       "      <td>186.000000</td>\n",
       "      <td>84.000000</td>\n",
       "      <td>25661.000000</td>\n",
       "      <td>70.000000</td>\n",
       "      <td>...</td>\n",
       "      <td>3.200000</td>\n",
       "      <td>70.000000</td>\n",
       "      <td>4.100000</td>\n",
       "      <td>3.200000</td>\n",
       "      <td>70.000000</td>\n",
       "      <td>4.000000</td>\n",
       "      <td>3.200000</td>\n",
       "      <td>70.000000</td>\n",
       "      <td>3.900000</td>\n",
       "      <td>3.100000</td>\n",
       "    </tr>\n",
       "    <tr>\n",
       "      <th>max</th>\n",
       "      <td>74.000000</td>\n",
       "      <td>7919.000000</td>\n",
       "      <td>9789.000000</td>\n",
       "      <td>1234.000000</td>\n",
       "      <td>63.000000</td>\n",
       "      <td>44.000000</td>\n",
       "      <td>9008.000000</td>\n",
       "      <td>250.000000</td>\n",
       "      <td>36275.000000</td>\n",
       "      <td>129.000000</td>\n",
       "      <td>...</td>\n",
       "      <td>3.700000</td>\n",
       "      <td>100.000000</td>\n",
       "      <td>6.600000</td>\n",
       "      <td>3.800000</td>\n",
       "      <td>102.000000</td>\n",
       "      <td>6.200000</td>\n",
       "      <td>3.700000</td>\n",
       "      <td>100.000000</td>\n",
       "      <td>5.900000</td>\n",
       "      <td>3.700000</td>\n",
       "    </tr>\n",
       "  </tbody>\n",
       "</table>\n",
       "<p>8 rows × 45 columns</p>\n",
       "</div>"
      ],
      "text/plain": [
       "             state         herd       # ptas         ptam         ptaf  \\\n",
       "count  7868.000000  7868.000000  7868.000000  7868.000000  7868.000000   \n",
       "mean     31.645018  3948.971022   142.494026   151.996187     9.072572   \n",
       "std      11.873456  2279.585578   355.704442   354.728682    12.943216   \n",
       "min      11.000000     1.000000     1.000000 -2940.000000  -108.000000   \n",
       "25%      23.000000  1976.750000    31.000000    -1.000000     3.000000   \n",
       "50%      31.000000  3947.500000    58.000000   213.000000    11.000000   \n",
       "75%      41.000000  5921.250000   117.000000   371.000000    17.000000   \n",
       "max      74.000000  7919.000000  9789.000000  1234.000000    63.000000   \n",
       "\n",
       "              ptap   rha # cows     % w ptas          rham        milk1  \\\n",
       "count  7868.000000  7868.000000  7868.000000   7868.000000  7868.000000   \n",
       "mean      5.805923   214.635613    62.069268  22967.245933    61.246441   \n",
       "std      10.895686   440.014365    28.295911   4037.126645    12.274327   \n",
       "min     -99.000000     2.000000     0.000000    462.000000     2.000000   \n",
       "25%       1.000000    60.000000    45.000000  20598.000000    54.000000   \n",
       "50%       7.000000    94.000000    71.000000  23328.000000    62.000000   \n",
       "75%      12.000000   186.000000    84.000000  25661.000000    70.000000   \n",
       "max      44.000000  9008.000000   250.000000  36275.000000   129.000000   \n",
       "\n",
       "          ...              pro9       milk10        fat10        pro10  \\\n",
       "count     ...       6377.000000  5862.000000  5862.000000  5862.000000   \n",
       "mean      ...          3.150902    62.032071     3.875384     3.140873   \n",
       "std       ...          0.134823    11.677153     0.320749     0.137300   \n",
       "min       ...          2.500000    15.000000     2.200000     2.500000   \n",
       "25%       ...          3.100000    55.000000     3.700000     3.100000   \n",
       "50%       ...          3.100000    63.000000     3.900000     3.100000   \n",
       "75%       ...          3.200000    70.000000     4.100000     3.200000   \n",
       "max       ...          3.700000   100.000000     6.600000     3.800000   \n",
       "\n",
       "            milk11        fat11        pro11       milk12        fat12  \\\n",
       "count  5084.000000  5084.000000  5084.000000  3792.000000  3792.000000   \n",
       "mean     61.739772     3.805566     3.096755    62.259757     3.779562   \n",
       "std      11.787988     0.313746     0.127782    11.521145     0.301008   \n",
       "min      17.000000     2.400000     2.500000    15.000000     2.400000   \n",
       "25%      54.000000     3.600000     3.000000    55.000000     3.600000   \n",
       "50%      62.000000     3.800000     3.100000    63.000000     3.800000   \n",
       "75%      70.000000     4.000000     3.200000    70.000000     3.900000   \n",
       "max     102.000000     6.200000     3.700000   100.000000     5.900000   \n",
       "\n",
       "             pro12  \n",
       "count  3792.000000  \n",
       "mean      3.064030  \n",
       "std       0.122117  \n",
       "min       2.500000  \n",
       "25%       3.000000  \n",
       "50%       3.100000  \n",
       "75%       3.100000  \n",
       "max       3.700000  \n",
       "\n",
       "[8 rows x 45 columns]"
      ]
     },
     "execution_count": 8,
     "metadata": {},
     "output_type": "execute_result"
    }
   ],
   "source": [
    "# Initial summary statistics\n",
    "data.describe()"
   ]
  },
  {
   "cell_type": "code",
   "execution_count": 9,
   "metadata": {},
   "outputs": [
    {
     "data": {
      "text/plain": [
       "38"
      ]
     },
     "execution_count": 9,
     "metadata": {},
     "output_type": "execute_result"
    }
   ],
   "source": [
    "# Amount of unique states the herds are from\n",
    "len(data.state.unique())"
   ]
  },
  {
   "cell_type": "code",
   "execution_count": 10,
   "metadata": {},
   "outputs": [
    {
     "data": {
      "text/plain": [
       "7868"
      ]
     },
     "execution_count": 10,
     "metadata": {},
     "output_type": "execute_result"
    }
   ],
   "source": [
    "# Amount of unique herds, since each row is a unique herd, should be the same amount - removed rows\n",
    "len(data.herd.unique())"
   ]
  },
  {
   "cell_type": "markdown",
   "metadata": {},
   "source": [
    "Each herd had 6-12 observations of herd production taken at various dates in the past year. In evaluating these entries, we noticed several herds had very little variation in their total milk production over the year."
   ]
  },
  {
   "cell_type": "code",
   "execution_count": 11,
   "metadata": {},
   "outputs": [
    {
     "data": {
      "image/png": "[encoded data removed]",
      "text/plain": [
       "<Figure size 432x288 with 1 Axes>"
      ]
     },
     "metadata": {
      "needs_background": "light"
     },
     "output_type": "display_data"
    }
   ],
   "source": [
    "cowMilkList = [col for col in data if col.startswith('milk')]\n",
    "cowMilk = data[cowMilkList]\n",
    "for i in range(3):\n",
    "    plt.scatter(range(1,13),cowMilk.iloc[i])"
   ]
  },
  {
   "cell_type": "markdown",
   "metadata": {},
   "source": [
    " We wanted to investigate if the difference in production month-to-month was worth looking into, so for each output variable of milk, fat, and protein, we found the standard deviation of that variable *for each herd individually*, then took the average of the standard deviations for each output."
   ]
  },
  {
   "cell_type": "code",
   "execution_count": 12,
   "metadata": {},
   "outputs": [
    {
     "name": "stdout",
     "output_type": "stream",
     "text": [
      "0.21460056115809667\n",
      "0.16108592713282582\n",
      "1.7480361062898773\n"
     ]
    }
   ],
   "source": [
    "cowFatList = [col for col in data if col.startswith('fat')]\n",
    "cowProList = [col for col in data if col.startswith('pro')]\n",
    "cowMilkList = [col for col in data if col.startswith('milk')]\n",
    "\n",
    "cowFat = data[cowFatList]\n",
    "cowPro = data[cowProList]\n",
    "cowMilk = data[cowMilkList]\n",
    "\n",
    "sds = 0\n",
    "count = 0\n",
    "for lst in [cowFat,cowPro,cowMilk]:\n",
    "    for i in range(lst.shape[0]):\n",
    "        x = pd.Series(lst.iloc[[i]].values.tolist()[0]).describe()[2]\n",
    "        add = 0 if np.isnan(x) else 1\n",
    "        x = 0 if np.isnan(x) else x\n",
    "        count += add\n",
    "        sds += x\n",
    "    print(sds/count)"
   ]
  },
  {
   "cell_type": "markdown",
   "metadata": {},
   "source": [
    "As we can see, the average standard deviation of each output variable was very low, especially in comparison to the actual raw values we see, so we decided that the month-to-moth difference in production was insignificant enough to be ignored, and as such could just take each herd's average as our expected output variable"
   ]
  },
  {
   "cell_type": "markdown",
   "metadata": {},
   "source": [
    "# Model Creation"
   ]
  },
  {
   "cell_type": "markdown",
   "metadata": {},
   "source": [
    "### Prepare training and test data"
   ]
  },
  {
   "cell_type": "code",
   "execution_count": 13,
   "metadata": {},
   "outputs": [],
   "source": [
    "# Create functions for automation between subjects\n",
    "\n",
    "def prepare_data(data, subject):\n",
    "    subject_columns = []\n",
    "    \n",
    "    # For each column, test if the column pertains to the subject\n",
    "    for col in data.columns:\n",
    "        if subject in col:\n",
    "            subject_columns.append(col)\n",
    "\n",
    "    # Return the average along the row of all of the subject columns\n",
    "    return data.loc[:, subject_columns].mean(axis=1, skipna=True)\n",
    "\n",
    "def split_data(X, y, test_size=0.3):\n",
    "    \n",
    "    # Remove rows where the truth label is NA\n",
    "    X_temp = X[~y.isna()]\n",
    "    y_temp = y[~y.isna()]\n",
    "    \n",
    "    # Split into train and test\n",
    "    X_train, X_test, y_train, y_test = train_test_split(X_temp, y_temp, test_size=test_size)\n",
    "    \n",
    "    return X_train, X_test, y_train, y_test"
   ]
  },
  {
   "cell_type": "code",
   "execution_count": 14,
   "metadata": {},
   "outputs": [],
   "source": [
    "# Prepare relevant columns\n",
    "subjects = [\"milk\", \"fat\", \"pro\"]\n",
    "feature_cols = ['# ptas', 'ptam', 'ptaf', 'ptap', 'rha # cows',\n",
    "                '% w ptas', 'rham', 'rhaf', 'rhap']\n",
    "\n",
    "# Dictionaries for each subject\n",
    "y = {}\n",
    "subject_splits = {}\n",
    "cv_scores = {}\n",
    "test_rr = {}\n",
    "\n",
    "# Training feature vectors\n",
    "X = data.loc[:, feature_cols]\n",
    "\n",
    "# Split data into train and test for each subject\n",
    "for subject in subjects:\n",
    "    y[subject] = prepare_data(data, subject)\n",
    "    subject_splits[subject] = split_data(X, y[subject])"
   ]
  },
  {
   "cell_type": "markdown",
   "metadata": {},
   "source": [
    "### Perform cross-validation to test values of alpha"
   ]
  },
  {
   "cell_type": "code",
   "execution_count": null,
   "metadata": {},
   "outputs": [],
   "source": [
    "for subject in subjects:\n",
    "    # Keep track of cv scores for the current subject\n",
    "    temp_scores = {}\n",
    "    \n",
    "    # For each alpha value, perform cross validation w/ Lasso and keep track of scores\n",
    "    for a in range(0, 25):\n",
    "        X_train, _, y_train, _ = subject_splits[subject]\n",
    "        lasso = Lasso(alpha=a)\n",
    "        temp_scores[a] = cross_val_score(lasso, X_train, y_train, cv=10).mean()\n",
    "        \n",
    "    # Store all scores in dictionary\n",
    "    cv_scores[subject] = temp_scores\n"
   ]
  },
  {
   "cell_type": "markdown",
   "metadata": {},
   "source": [
    "As you can see, variations in alpha don't cause much difference in R^2 values for milk. For fat and protein, as alpha increase, our training accuracy decreases significantly. This is due to the over-complexity of the models for those large regularization values. Therefore, we will elect to have a less complex model with alpha = 0 (no regularization)."
   ]
  },
  {
   "cell_type": "markdown",
   "metadata": {},
   "source": [
    "### Evaluate on test data"
   ]
  },
  {
   "cell_type": "code",
   "execution_count": 12,
   "metadata": {
    "scrolled": true
   },
   "outputs": [
    {
     "data": {
      "text/plain": [
       "{'milk': 0.9894988337398536,\n",
       " 'fat': 0.9415880148701556,\n",
       " 'pro': 0.9379685441893085}"
      ]
     },
     "execution_count": 12,
     "metadata": {},
     "output_type": "execute_result"
    }
   ],
   "source": [
    "# For each subject, fit on train and predict on test\n",
    "for subject in subjects:\n",
    "    lasso = Lasso(alpha=0)\n",
    "    X_train, X_test, y_train, y_test = subject_splits[subject]\n",
    "    lasso.fit(X_train, y_train)\n",
    "    \n",
    "    # Store R^2 values in dictionary\n",
    "    test_rr[subject] = lasso.score(X_test, y_test)\n",
    "\n",
    "test_rr"
   ]
  },
  {
   "cell_type": "markdown",
   "metadata": {},
   "source": [
    "Test evaluation metrics seem really good. But we are still skeptical of the results. In future work, we will analyze the feature importances to determine what is playing the biggest role in the predictions. We may also normalize the data depending on this analysis."
   ]
  }
 ],
 "metadata": {
  "kernelspec": {
   "display_name": "Python 3",
   "language": "python",
   "name": "python3"
  },
  "language_info": {
   "codemirror_mode": {
    "name": "ipython",
    "version": 3
   },
   "file_extension": ".py",
   "mimetype": "text/x-python",
   "name": "python",
   "nbconvert_exporter": "python",
   "pygments_lexer": "ipython3",
   "version": "3.7.1"
  }
 },
 "nbformat": 4,
 "nbformat_minor": 2
}

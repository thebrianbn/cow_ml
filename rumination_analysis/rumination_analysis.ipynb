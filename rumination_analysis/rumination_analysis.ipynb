{
 "cells": [
  {
   "cell_type": "code",
   "execution_count": 198,
   "metadata": {},
   "outputs": [],
   "source": [
    "import numpy as np\n",
    "import pandas as pd\n",
    "from sklearn.model_selection import train_test_split, cross_val_score\n",
    "from sklearn.linear_model import Lasso\n",
    "from sklearn.ensemble import RandomForestRegressor, RandomForestClassifier\n",
    "from sklearn import svm, metrics\n",
    "from scipy.stats.stats import pearsonr\n",
    "from matplotlib import pyplot as plt\n",
    "import warnings\n",
    "warnings.filterwarnings('ignore')\n",
    "pd.options.display.max_rows = 4000"
   ]
  },
  {
   "cell_type": "code",
   "execution_count": 174,
   "metadata": {},
   "outputs": [],
   "source": [
    "#Read in datasets, drop null rows\n",
    "\n",
    "xls = pd.ExcelFile('rottman.xlsx')\n",
    "blood = pd.read_excel(xls, 'Blood')\n",
    "ammonia = pd.read_excel(xls, 'Ammonia')\n",
    "vfa = pd.read_excel(xls, 'VFA')\n",
    "milk_FA = pd.read_excel(xls,'MILK FA Profile')\n",
    "\n",
    "xls2 = pd.ExcelFile('fcr.xlsx')\n",
    "fcr = pd.read_excel(xls2,'FCR')\n",
    "\n",
    "blood = blood.dropna()\n",
    "ammonia = ammonia.dropna()\n",
    "vfa = vfa.dropna()\n",
    "milk_FA = milk_FA.dropna()\n"
   ]
  },
  {
   "cell_type": "markdown",
   "metadata": {},
   "source": [
    "# Data Cleaning\n",
    "\n",
    "\n",
    "We decided to convert the time values we were given, military time, to \"number of hours after midnight\", allowing our data to be evenly spaced out.  We also were given many potential output values to look at the the FCR dataset, namely the composition of the food eaten.  For this week, we decided to solely investigate the raw kilograms of food eaten, potentially looking into the other values in later weeks."
   ]
  },
  {
   "cell_type": "code",
   "execution_count": 175,
   "metadata": {},
   "outputs": [],
   "source": [
    "raw_output = fcr[[\"per\",\"Cow\",\"miltarytime\",\"kgPerH_asfed\"]]\n",
    "raw_output.rename(columns={'per':'Period', 'miltarytime':'Time','kgPerH_asfed':'kg_consumed'},inplace=True)\n",
    "#convert from military time to number of hours in float\n",
    "def helper(row):\n",
    "    if str(row.Time)[-4:] == '30.0':\n",
    "        return float((str(row.Time)[:-4] + '50'))\n",
    "    return row.Time\n",
    "\n",
    "raw_output.Time = raw_output.apply(helper,axis=1)\n",
    "raw_output.Time = raw_output.Time / 100"
   ]
  },
  {
   "cell_type": "markdown",
   "metadata": {},
   "source": [
    "The end goal with this dataset is predict a cow's intake time based on its blood and plasma data.  To this end, we decided to create two versions of our initial model.  Both would take as inputs the cow's ammonia content, relevant blood information, and total volatile fatty acids as inputs.  The second model would also consider whether the cow had been milked in the past 2 hours, the logic here being that a cow recently milked would be hungrier.  Cows are milked at 0700 and 1700 every day, but we only considered 1700 to be relevant, since cows are fed at 0900 every days."
   ]
  },
  {
   "cell_type": "code",
   "execution_count": 176,
   "metadata": {},
   "outputs": [],
   "source": [
    "vfa.Period = vfa.Period.apply(lambda x: x[1:])\n",
    "ammonia.Time = ammonia.Time.astype(float)\n",
    "blood.Time =  blood.Time.astype(float)\n",
    "vfa.Time = vfa.Time.astype(float)\n",
    "ammonia.Period = ammonia.Period.astype(int)\n",
    "blood.Period = blood.Period.astype(int)\n",
    "vfa.Period = vfa.Period.astype(int)\n",
    "ammonia.Cow = ammonia.Cow.astype(int)\n",
    "blood.Cow = blood.Cow.astype(int)\n",
    "vfa.Cow = vfa.Cow.astype(int)\n",
    "\n",
    "inputs5 = pd.merge(blood,ammonia,how='left', left_on=['Cow','Period','Time'],right_on=['Cow','Period','Time'])\n",
    "inputs5 = inputs5.drop(columns = [\"Sequence_x\",\"Treatment_x\"])\n",
    "inputs5.rename(columns = {'Sequence_y':'Sequence','Treatment_y':'Treatment'}, inplace = True)\n",
    "\n",
    "#vfa = vfa[[\"Cow\",\"Period\",\"Time\",\"Total VFA\"]]\n"
   ]
  },
  {
   "cell_type": "code",
   "execution_count": 177,
   "metadata": {},
   "outputs": [],
   "source": [
    "inputs = pd.merge(inputs5,vfa,how=\"left\",left_on=['Cow','Period','Time'],right_on=['Cow','Period','Time'])\n",
    "inputs.Time = (inputs.Time / 100).astype(int)\n",
    "inputs = inputs.drop(columns = [\"Sequence_x\",\"Treatment_x\"])\n",
    "inputs.rename(columns = {'Sequence_y':'Sequence','Treatment_y':'Treatment'}, inplace = True)"
   ]
  },
  {
   "cell_type": "markdown",
   "metadata": {},
   "source": [
    "We immediately ran into a problem - we had input data for every three hours, and our output data ran every half an hour.  We needed to fill in the gaps in our input data.  To do so, we assumed a linear relationship between hours 3 and 6 for every parameter.  For example, for cow 1157 on period 1, the value for BUN increases from 9.77 to 9.99.  So, for hour 3.5, our computed value for BUN is 9.77 + (9.99 - 9.77)/6 = 9.806667.  A naive assumption, for sure, but better than duplicating data or eliminating those rows entirely, as that would leave us with very little data to work with.\n",
    "\n",
    "We did this for every hour gap and every parameter"
   ]
  },
  {
   "cell_type": "code",
   "execution_count": 178,
   "metadata": {},
   "outputs": [],
   "source": [
    "##Filling in time gaps in our input data, assuming a linear relationship\n",
    "\n",
    "#duplicating rows\n",
    "inputs = inputs.reindex(np.repeat(inputs.index.values, 6), method='ffill')\n",
    "inputs = inputs.reset_index()\n",
    "inputs = inputs.drop(columns=[\"index\"])\n",
    "inputs = inputs[['Cow', 'Period', 'Time',  'Treatment', 'Sequence', 'BUN', 'Glucose', 'NEFA', 'Insulin', 'Ammonia','acet', 'prop', 'Isobut', 'But', 'Isoval', 'val', 'Total VFA', 'AcetMR', 'PropMR', 'IBUTMR', 'ButMR', 'IvalMR', 'ValMR']]\n",
    "\n",
    "input_list = list(inputs)"
   ]
  },
  {
   "cell_type": "code",
   "execution_count": 179,
   "metadata": {},
   "outputs": [
    {
     "name": "stdout",
     "output_type": "stream",
     "text": [
      "    Cow  Period  Time Treatment Sequence      BUN Glucose    NEFA Insulin  \\\n",
      "0  1157       1   3.0         C      CLH     9.77   62.67  108.88  26.372   \n",
      "1  1157       1   3.5         C      CLH  9.80667  63.275  114.68  23.568   \n",
      "2  1157       1   4.0         C      CLH  9.84333   63.88  120.48  20.764   \n",
      "3  1157       1   4.5         C      CLH     9.88  64.485  126.28   17.96   \n",
      "4  1157       1   5.0         C      CLH  9.91667   65.09  132.08  15.156   \n",
      "5  1157       1   5.5         C      CLH  9.95333  65.695  137.88  12.352   \n",
      "6  1157       1   6.0         C      CLH     9.99    66.3  143.68   9.548   \n",
      "\n",
      "   Ammonia   ...         But   Isoval      val Total VFA   AcetMR   PropMR  \\\n",
      "0  4.58528   ...     13.2455  1.78259  2.10655   113.621  63.5207  20.7231   \n",
      "1  4.58229   ...     12.8362    1.755  2.07201   111.136  63.5725  20.7614   \n",
      "2  4.57929   ...     12.4268  1.72741  2.03747   108.651  63.6242  20.7996   \n",
      "3  4.57629   ...     12.0175  1.69982  2.00294   106.166   63.676  20.8379   \n",
      "4  4.57329   ...     11.6082  1.67222   1.9684   103.681  63.7278  20.8762   \n",
      "5  4.57029   ...     11.1988  1.64463  1.93386   101.196  63.7796  20.9144   \n",
      "6  4.56729   ...     10.7895  1.61704  1.89932   98.7111  63.8314  20.9527   \n",
      "\n",
      "     IBUTMR    ButMR   IvalMR    ValMR  \n",
      "0  0.675681  11.6576   1.5689  1.85402  \n",
      "1  0.683611  11.5364  1.58044   1.8657  \n",
      "2  0.691541  11.4152  1.59198  1.87739  \n",
      "3  0.699472   11.294  1.60352  1.88907  \n",
      "4  0.707402  11.1728  1.61507  1.90075  \n",
      "5  0.715332  11.0516  1.62661  1.91244  \n",
      "6  0.723262  10.9304  1.63815  1.92412  \n",
      "\n",
      "[7 rows x 23 columns]\n"
     ]
    }
   ],
   "source": [
    "#changing the time of duplicated rows\n",
    "def helper(row):\n",
    "    if row.Time == 24.0:\n",
    "        row.Time = 0.0\n",
    "    return row.Time + ((row.name % 6) / 2.0)\n",
    "\n",
    "\n",
    "inputs.Time = inputs.apply(helper,axis=1)\n",
    "copy1 = inputs\n",
    "\n",
    "#linear assumption for values\n",
    "for index, row in inputs.iterrows():\n",
    "    index_next = index + 6 - (index % 6)\n",
    "    index_prior = index_next - 6\n",
    "    index_mult = index % 6\n",
    "    #for col in [\"BUN\",\"Glucose\",\"NEFA\",\"Insulin\",\"Ammonia\",\"Total VFA\"]:\n",
    "    for col in input_list[5:]:\n",
    "        try:\n",
    "            diff = (inputs.iloc[index_next][col] - inputs.iloc[index_prior][col]) / 6\n",
    "        except:\n",
    "            break\n",
    "        inputs.at[index,col] = row[col] + diff*index_mult\n",
    "\n",
    "\n",
    "print(inputs.head(7))"
   ]
  },
  {
   "cell_type": "markdown",
   "metadata": {},
   "source": [
    "For the second version of the model, we needed to add a boolean that would indicate if the cow has given milk in the past 2 hours"
   ]
  },
  {
   "cell_type": "code",
   "execution_count": 180,
   "metadata": {},
   "outputs": [
    {
     "name": "stdout",
     "output_type": "stream",
     "text": [
      "    Cow  Period  Time Treatment Sequence      BUN  Glucose    NEFA  Insulin  \\\n",
      "0  1157       1   3.0         C      CLH     9.77    62.67  108.88   26.372   \n",
      "1  1157       1   3.5         C      CLH  9.80667   63.275  114.68   23.568   \n",
      "2  1157       1   4.0         C      CLH  9.84333    63.88  120.48   20.764   \n",
      "3  1157       1   4.5         C      CLH     9.88   64.485  126.28    17.96   \n",
      "4  1157       1   5.0         C      CLH  9.91667    65.09  132.08   15.156   \n",
      "5  1157       1   5.5         C      CLH  9.95333   65.695  137.88   12.352   \n",
      "6  1157       1   6.0         C      CLH     9.99     66.3  143.68    9.548   \n",
      "7  1157       1   6.5         C      CLH  10.3767  66.2983  141.59  9.07617   \n",
      "8  1157       1   7.0         C      CLH  10.7633  66.2967  139.50  8.60433   \n",
      "9  1157       1   7.5         C      CLH    11.15   66.295  137.41   8.1325   \n",
      "\n",
      "   Ammonia  ...     Isoval      val Total VFA   AcetMR   PropMR    IBUTMR  \\\n",
      "0  4.58528  ...    1.78259  2.10655   113.621  63.5207  20.7231  0.675681   \n",
      "1  4.58229  ...      1.755  2.07201   111.136  63.5725  20.7614  0.683611   \n",
      "2  4.57929  ...    1.72741  2.03747   108.651  63.6242  20.7996  0.691541   \n",
      "3  4.57629  ...    1.69982  2.00294   106.166   63.676  20.8379  0.699472   \n",
      "4  4.57329  ...    1.67222   1.9684   103.681  63.7278  20.8762  0.707402   \n",
      "5  4.57029  ...    1.64463  1.93386   101.196  63.7796  20.9144  0.715332   \n",
      "6  4.56729  ...    1.61704  1.89932   98.7111  63.8314  20.9527  0.723262   \n",
      "7  5.48537  ...     1.6476  1.87714   99.0743  63.8122  20.9735  0.732657   \n",
      "8  6.40346  ...    1.67817  1.85496   99.4376   63.793  20.9942  0.742052   \n",
      "9  7.32155  ...    1.70874  1.83278   99.8008  63.7739   21.015  0.751447   \n",
      "\n",
      "     ButMR   IvalMR    ValMR milked  \n",
      "0  11.6576   1.5689  1.85402      0  \n",
      "1  11.5364  1.58044   1.8657      0  \n",
      "2  11.4152  1.59198  1.87739      0  \n",
      "3   11.294  1.60352  1.88907      0  \n",
      "4  11.1728  1.61507  1.90075      0  \n",
      "5  11.0516  1.62661  1.91244      0  \n",
      "6  10.9304  1.63815  1.92412      0  \n",
      "7  10.9239  1.66255  1.89521      0  \n",
      "8  10.9174  1.68695   1.8663      0  \n",
      "9   10.911  1.71135  1.83739      0  \n",
      "\n",
      "[10 rows x 24 columns]\n",
      "['BUN', 'Glucose', 'NEFA', 'Insulin', 'Ammonia', 'acet', 'prop', 'Isobut', 'But', 'Isoval', 'val', 'Total VFA', 'AcetMR', 'PropMR', 'IBUTMR', 'ButMR', 'IvalMR', 'ValMR']\n"
     ]
    }
   ],
   "source": [
    "def helper_milk(row):\n",
    "    if row.Time in [17.0,17.5,18.0, 18.5, 19.0]:\n",
    "        return 1\n",
    "    return 0\n",
    "inputs[\"milked\"] = inputs.apply(helper_milk,axis=1)\n",
    "print(inputs.head(10))\n",
    "print(input_list[5:])"
   ]
  },
  {
   "cell_type": "markdown",
   "metadata": {},
   "source": [
    "# Data Analysis\n",
    "\n",
    "Before we dove into the model creation, we wanted to analyze if there was any clear relationship between the amount of food consumed and each of our potential input variables, so we knew where to focus our efforts.  To this end, we computed the correlation between our inputs (each blood value, ammonia concentration, and total volatile fatty acids) and our expected output."
   ]
  },
  {
   "cell_type": "code",
   "execution_count": 181,
   "metadata": {},
   "outputs": [
    {
     "name": "stdout",
     "output_type": "stream",
     "text": [
      "BUN:  0.15740423995435826\n",
      "Glucose:  -0.14226530262786163\n",
      "NEFA:  -0.07011730313794608\n",
      "Insulin:  0.09613938773906323\n",
      "Ammonia:  0.24447895905410386\n",
      "acet:  0.10256879865846633\n",
      "prop:  -0.0075780726748007265\n",
      "Isobut:  0.08546365845627787\n",
      "But:  0.12181803685859909\n",
      "Isoval:  0.09213945893630555\n",
      "val:  0.1296243528431392\n",
      "Total VFA:  0.08692675112830436\n",
      "AcetMR:  0.01829793587059119\n",
      "PropMR:  -0.07286673161021796\n",
      "IBUTMR:  0.05000241765448704\n",
      "ButMR:  0.10721431193510551\n",
      "IvalMR:  0.06623912984203315\n",
      "ValMR:  0.12024493882631955\n"
     ]
    }
   ],
   "source": [
    "#merging datasets\n",
    "whole = pd.merge(inputs,raw_output,how='left',left_on = ['Cow','Period','Time'],right_on=['Cow','Period','Time'])\n",
    "\n",
    "#removing some values that just have '.'\n",
    "for col in input_list[5:]:\n",
    "    whole[col] = pd.to_numeric(whole[col], errors = 'coerce') \n",
    "\n",
    "whole = whole.dropna()\n",
    "\n",
    "\n",
    "for feature in input_list[5:]:\n",
    "    print(feature + \": \", pearsonr(whole[feature], whole[\"kg_consumed\"])[0])"
   ]
  },
  {
   "cell_type": "code",
   "execution_count": 201,
   "metadata": {},
   "outputs": [
    {
     "data": {
      "text/plain": [
       "Text(0, 0.5, 'KG consumed')"
      ]
     },
     "execution_count": 201,
     "metadata": {},
     "output_type": "execute_result"
    },
    {
     "data": {
      "image/png": "[encoded data removed]",
      "text/plain": [
       "<Figure size 936x504 with 1 Axes>"
      ]
     },
     "metadata": {
      "needs_background": "light"
     },
     "output_type": "display_data"
    },
    {
     "data": {
      "image/png": "[encoded data removed]",
      "text/plain": [
       "<Figure size 936x504 with 1 Axes>"
      ]
     },
     "metadata": {
      "needs_background": "light"
     },
     "output_type": "display_data"
    }
   ],
   "source": [
    "plt.figure(figsize=(13,7))\n",
    "plt.scatter(whole[\"BUN\"], whole[\"kg_consumed\"])\n",
    "plt.title(\"BUN vs kg_consumed\")\n",
    "plt.xlabel(\"BUN\")\n",
    "plt.ylabel(\"KG consumed\");\n",
    "\n",
    "plt.figure(figsize=(13,7))\n",
    "plt.scatter(whole[\"Ammonia\"],whole[\"kg_consumed\"])\n",
    "plt.title(\"Ammonia vs kg_consumed\")\n",
    "plt.xlabel(\"Ammonia\")\n",
    "plt.ylabel(\"KG consumed\")"
   ]
  },
  {
   "cell_type": "markdown",
   "metadata": {},
   "source": [
    "As we can see, our correlations are not very good and even negative for several features we were considering.  As such, we only took the variables with correlation above 0.1 to consider in our model, to simplify our model and remove unnecessary data.  This left us considering BUN, Ammonia, Acet, But, val, ButMR, and ValMR.  However, But and ButMR are directly related to each other computationally, as are ValMR and val.  As such, we dropped the MR version of these variables and considered exclusively But and val.\n",
    "\n",
    "Further, this also tells us that none of these variables are very related to the total amount of food consumed, whatsoever.  We're going to go ahead and try to create the model, but we don't expect very high accuracy.  This may lead to a shift in approach going forward - perhaps we'll attempt to predict a different variable, perhaps we'll try to predict the times directly, we have many options to consider.  For now, we'll give this a shot"
   ]
  },
  {
   "cell_type": "markdown",
   "metadata": {},
   "source": [
    "# Model Creation"
   ]
  },
  {
   "cell_type": "code",
   "execution_count": 191,
   "metadata": {},
   "outputs": [],
   "source": [
    "##data is now ready\n",
    "whole = whole[[\"Time\",\"BUN\",\"Ammonia\",\"acet\",\"But\",'val','milked',\"kg_consumed\"]]\n",
    "\n",
    "\n",
    "X_train, X_test, y_train, y_test = train_test_split(whole[[\"Time\",\"BUN\",\"Ammonia\",\"acet\",\"But\",'val']], whole[\"kg_consumed\"], test_size=0.3)"
   ]
  },
  {
   "cell_type": "code",
   "execution_count": 192,
   "metadata": {},
   "outputs": [
    {
     "name": "stdout",
     "output_type": "stream",
     "text": [
      "0.10965529485455561\n",
      "0.46800101102684216\n"
     ]
    }
   ],
   "source": [
    "#lasso regression for Model 1\n",
    "lasso = Lasso(alpha=0)\n",
    "lasso.fit(X_train, y_train)\n",
    "print(lasso.score(X_test, y_test))\n",
    "\n",
    "#Random Forest for Model 1\n",
    "randomf = RandomForestRegressor(n_estimators = 1000)\n",
    "\n",
    "randomf.fit(X_train,y_train)\n",
    "print(randomf.score(X_test,y_test))\n",
    "\n"
   ]
  },
  {
   "cell_type": "code",
   "execution_count": 193,
   "metadata": {},
   "outputs": [
    {
     "name": "stdout",
     "output_type": "stream",
     "text": [
      "0.08422622383397493\n",
      "0.5474277231175181\n"
     ]
    }
   ],
   "source": [
    "X_train, X_test, y_train, y_test = train_test_split(whole[[\"Time\",\"BUN\",\"Ammonia\",\"acet\",\"But\",'val','milked']], whole[\"kg_consumed\"], test_size=0.3)\n",
    "\n",
    "#lasso regression for Model 2\n",
    "\n",
    "lasso = Lasso(alpha=0)\n",
    "lasso.fit(X_train, y_train)\n",
    "print(lasso.score(X_test, y_test))\n",
    "\n",
    "#Random Forest for Model 2\n",
    "\n",
    "randomf = RandomForestRegressor(n_estimators = 1000)\n",
    "\n",
    "randomf.fit(X_train,y_train)\n",
    "print(randomf.score(X_test,y_test))"
   ]
  },
  {
   "cell_type": "markdown",
   "metadata": {},
   "source": [
    "As we expected, our models are really, really bad.  We thought on it and realized that we weren't exactly answering the question at hand.  Our model aims to predict the number of kilograms of feed a cow eats at a specific time of the day.  The original question, as posed in Dr. Harvatine's lecture, was more along the lines of \"At what times do cows eat?\"  We figured we could extrapolate the time eaten from the kilograms eaten every hour, but with our innacuracy that won't be possible.  From this point, we decided to let the regression sit for a while and shift our focus to a binary case - given a certain time, is the cow eating or not?\n",
    "\n",
    "This problem is multifold.  We first need to determine a threshold for if the cow is eating or not.  Most of our values were above 0, but many were trivial, so we decided that all entries with <1 kg of food eaten would be considered the cow not eating, as they could be chalked up to error, food falling off the measuring device, etc."
   ]
  },
  {
   "cell_type": "code",
   "execution_count": 194,
   "metadata": {},
   "outputs": [
    {
     "name": "stdout",
     "output_type": "stream",
     "text": [
      "0.5633333333333334\n"
     ]
    }
   ],
   "source": [
    "whole[\"is_eating\"] = whole[\"kg_consumed\"] > 1\n",
    "print(np.mean(whole.is_eating))"
   ]
  },
  {
   "cell_type": "code",
   "execution_count": 195,
   "metadata": {},
   "outputs": [
    {
     "name": "stdout",
     "output_type": "stream",
     "text": [
      "Accuracy: 0.6916666666666667\n"
     ]
    }
   ],
   "source": [
    "##SVM\n",
    "\n",
    "X_train, X_test, y_train, y_test = train_test_split(whole[[\"Time\",\"BUN\",\"Ammonia\",\"acet\",\"But\",'val']], whole[\"is_eating\"], test_size=0.3)\n",
    "clf = svm.SVC(kernel = \"linear\")\n",
    "# Train classifier and predict\n",
    "clf.fit(X_train, y_train)\n",
    "clf_predictions = clf.predict(X_test)\n",
    "print(\"Accuracy:\",metrics.accuracy_score(y_test, clf_predictions))"
   ]
  },
  {
   "cell_type": "code",
   "execution_count": 197,
   "metadata": {},
   "outputs": [
    {
     "name": "stdout",
     "output_type": "stream",
     "text": [
      "Accuracy: 75.55555555555556%\n"
     ]
    }
   ],
   "source": [
    "##Random Forest Classification\n",
    "\n",
    "rf=RandomForestClassifier(n_estimators=1000)\n",
    "rf.fit(X_train,y_train)\n",
    "rf_predictions = rf.predict(X_test)\n",
    "print(\"Accuracy: {}%\".format(rf.score(X_test,y_test) * 100 ))"
   ]
  },
  {
   "cell_type": "markdown",
   "metadata": {},
   "source": [
    "The classifications are slightly better, particularly the random forest, but ultimately we're still missing something here.  It's possible that we should be using more inputs (there's a lot more data on fatty acids and milk profile that we haven't used yet, for example), and we certainly need to optimize our parameters.  In the future, we'll also consider using different ML models, and eventually stacking our models.  We're also thinking about simplifying our models and considering solely Time, Sequence, and Treatment as inputs, using dummy variables for the categorical variables Sequence and Treatment.  We have a lot more options to consider, so all hope is not lost yet."
   ]
  }
 ],
 "metadata": {
  "kernelspec": {
   "display_name": "Python 3",
   "language": "python",
   "name": "python3"
  },
  "language_info": {
   "codemirror_mode": {
    "name": "ipython",
    "version": 3
   },
   "file_extension": ".py",
   "mimetype": "text/x-python",
   "name": "python",
   "nbconvert_exporter": "python",
   "pygments_lexer": "ipython3",
   "version": "3.7.1"
  }
 },
 "nbformat": 4,
 "nbformat_minor": 2
}
